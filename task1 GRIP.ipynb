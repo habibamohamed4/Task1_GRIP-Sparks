{
 "cells": [
  {
   "cell_type": "markdown",
   "id": "03b2488c",
   "metadata": {},
   "source": [
    "# Task1 ( prediction using supervised ML )"
   ]
  },
  {
   "cell_type": "markdown",
   "id": "2f4d51d1",
   "metadata": {},
   "source": [
    "# Habiba Mohamed Hanafy "
   ]
  },
  {
   "cell_type": "markdown",
   "id": "04182323",
   "metadata": {},
   "source": [
    "### Importing Libraries"
   ]
  },
  {
   "cell_type": "code",
   "execution_count": 1,
   "id": "90a9bfc8",
   "metadata": {},
   "outputs": [],
   "source": [
    "import numpy as np  \n",
    "import pandas as pd\n",
    "import matplotlib.pyplot as plt "
   ]
  },
  {
   "cell_type": "markdown",
   "id": "197d4dae",
   "metadata": {},
   "source": [
    "### Reading data"
   ]
  },
  {
   "cell_type": "code",
   "execution_count": 2,
   "id": "62db431e",
   "metadata": {},
   "outputs": [],
   "source": [
    "dataSet=pd.read_csv(\"http://bit.ly/w-data\")"
   ]
  },
  {
   "cell_type": "code",
   "execution_count": 3,
   "id": "d9591c86",
   "metadata": {},
   "outputs": [
    {
     "data": {
      "text/plain": [
       "Index(['Hours', 'Scores'], dtype='object')"
      ]
     },
     "execution_count": 3,
     "metadata": {},
     "output_type": "execute_result"
    }
   ],
   "source": [
    "dataSet.keys()"
   ]
  },
  {
   "cell_type": "code",
   "execution_count": 4,
   "id": "3ba471a1",
   "metadata": {},
   "outputs": [],
   "source": [
    "X = dataSet.iloc[:, :-1].values  \n",
    "y = dataSet.iloc[:, 1].values  "
   ]
  },
  {
   "cell_type": "code",
   "execution_count": 5,
   "id": "0ff21118",
   "metadata": {},
   "outputs": [],
   "source": [
    "# X"
   ]
  },
  {
   "cell_type": "code",
   "execution_count": 6,
   "id": "c88d8249",
   "metadata": {},
   "outputs": [
    {
     "data": {
      "text/plain": [
       "<matplotlib.collections.PathCollection at 0x21ec6e79ca0>"
      ]
     },
     "execution_count": 6,
     "metadata": {},
     "output_type": "execute_result"
    },
    {
     "data": {
      "image/png": "[encoded data removed]",
      "text/plain": [
       "<Figure size 432x288 with 1 Axes>"
      ]
     },
     "metadata": {
      "needs_background": "light"
     },
     "output_type": "display_data"
    }
   ],
   "source": [
    "plt.scatter(X,y,label= \"stars\", color= \"green\", \n",
    "            marker= \"*\", s=30)"
   ]
  },
  {
   "cell_type": "markdown",
   "id": "7a23801f",
   "metadata": {},
   "source": [
    "### Spliting the dataset"
   ]
  },
  {
   "cell_type": "code",
   "execution_count": 7,
   "id": "66ed67e1",
   "metadata": {},
   "outputs": [],
   "source": [
    "from sklearn.model_selection import train_test_split \n",
    "X_train, X_test, y_train, y_test = train_test_split(X, y,test_size=0.3, random_state=0)"
   ]
  },
  {
   "cell_type": "code",
   "execution_count": 8,
   "id": "4ed17eb5",
   "metadata": {},
   "outputs": [
    {
     "name": "stdout",
     "output_type": "stream",
     "text": [
      "[[1.5]\n",
      " [3.2]\n",
      " [7.4]\n",
      " [2.5]\n",
      " [5.9]\n",
      " [3.8]\n",
      " [1.9]\n",
      " [7.8]]\n"
     ]
    }
   ],
   "source": [
    "print( X_test)"
   ]
  },
  {
   "cell_type": "markdown",
   "id": "5915a817",
   "metadata": {},
   "source": [
    "### Importing Linear Regression"
   ]
  },
  {
   "cell_type": "code",
   "execution_count": 9,
   "id": "6a7316a7",
   "metadata": {},
   "outputs": [],
   "source": [
    "from sklearn.linear_model import LinearRegression\n",
    "linreg = LinearRegression().fit(X_train, y_train)"
   ]
  },
  {
   "cell_type": "markdown",
   "id": "f2d59dbc",
   "metadata": {},
   "source": [
    "### Predicting data"
   ]
  },
  {
   "cell_type": "code",
   "execution_count": 10,
   "id": "fe3a6a6e",
   "metadata": {},
   "outputs": [],
   "source": [
    " y_predict = linreg.predict(X_test)"
   ]
  },
  {
   "cell_type": "markdown",
   "id": "0cbc1173",
   "metadata": {},
   "source": [
    "### Drawing data for better visualization  "
   ]
  },
  {
   "cell_type": "code",
   "execution_count": 15,
   "id": "44893306",
   "metadata": {},
   "outputs": [
    {
     "data": {
      "text/plain": [
       "<matplotlib.legend.Legend at 0x21ec9a177f0>"
      ]
     },
     "execution_count": 15,
     "metadata": {},
     "output_type": "execute_result"
    },
    {
     "data": {
      "image/png": "[encoded data removed]",
      "text/plain": [
       "<Figure size 432x288 with 1 Axes>"
      ]
     },
     "metadata": {
      "needs_background": "light"
     },
     "output_type": "display_data"
    }
   ],
   "source": [
    "plt.plot(X, y, 'o', label='training data')\n",
    "regline = linreg.coef_*X+linreg.intercept_\n",
    "plt.plot(X, regline)\n",
    "plt.legend()"
   ]
  },
  {
   "cell_type": "markdown",
   "id": "5522ab88",
   "metadata": {},
   "source": [
    "### Calculate mean squared error"
   ]
  },
  {
   "cell_type": "code",
   "execution_count": 16,
   "id": "274129bc",
   "metadata": {},
   "outputs": [
    {
     "name": "stdout",
     "output_type": "stream",
     "text": [
      "mean squared error: 22.96509721270043\n"
     ]
    }
   ],
   "source": [
    "from sklearn.metrics import mean_squared_error\n",
    "error= mean_squared_error(y_test, y_predict)\n",
    "print(\"mean squared error:\" ,error)"
   ]
  },
  {
   "cell_type": "markdown",
   "id": "c2e1cd22",
   "metadata": {},
   "source": [
    "### Prediction example"
   ]
  },
  {
   "cell_type": "code",
   "execution_count": 17,
   "id": "24d60aef",
   "metadata": {},
   "outputs": [
    {
     "name": "stdout",
     "output_type": "stream",
     "text": [
      "Number of Hours =  [[9.25]]\n",
      "Predicted Score =  [92.91505723]\n"
     ]
    }
   ],
   "source": [
    "hours = [[9.25]]\n",
    "prediction = linreg.predict(hours)\n",
    "print(\"Number of Hours = \",hours)\n",
    "print(\"Predicted Score = \",prediction)"
   ]
  },
  {
   "cell_type": "code",
   "execution_count": null,
   "id": "79715fb5",
   "metadata": {},
   "outputs": [],
   "source": []
  }
 ],
 "metadata": {
  "kernelspec": {
   "display_name": "Python 3 (ipykernel)",
   "language": "python",
   "name": "python3"
  },
  "language_info": {
   "codemirror_mode": {
    "name": "ipython",
    "version": 3
   },
   "file_extension": ".py",
   "mimetype": "text/x-python",
   "name": "python",
   "nbconvert_exporter": "python",
   "pygments_lexer": "ipython3",
   "version": "3.9.7"
  }
 },
 "nbformat": 4,
 "nbformat_minor": 5
}
